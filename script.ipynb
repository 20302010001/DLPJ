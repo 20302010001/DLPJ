{
 "cells": [
  {
   "attachments": {},
   "cell_type": "markdown",
   "metadata": {},
   "source": [
    "1、使用yolov5模型进行目标检测，将视频每一帧中识别出的目标的bounding box位置、目标的类别、置信度保存在 `video_obj_detect/test/mylabels/` 目录下。（输入视频文件为test.mp4）"
   ]
  },
  {
   "cell_type": "code",
   "execution_count": null,
   "metadata": {},
   "outputs": [],
   "source": [
    "!python yolov5/detect.py --weights yolov5/yolov5s.pt --img 640 --conf 0.25 --source input_video/test.mp4 --save-txt --save-conf --mylabels-path video_obj_detect"
   ]
  },
  {
   "attachments": {},
   "cell_type": "markdown",
   "metadata": {},
   "source": [
    "2、使用MediaPipe进行关键点检测，将视频每一帧中检测出的目标（person）输入给MediaPipe的模型，根据模型输出的关键点对原图像进行关键点标注，并且根据关键点的坐标取值分析该人是处在行走还是骑行。（输入视频文件为test.mp4）"
   ]
  },
  {
   "cell_type": "code",
   "execution_count": 9,
   "metadata": {},
   "outputs": [
    {
     "name": "stderr",
     "output_type": "stream",
     "text": [
      "INFO: Created TensorFlow Lite XNNPACK delegate for CPU.\n"
     ]
    }
   ],
   "source": [
    "!python pose/pose.py -i input_video/test.mp4 -a video_obj_detect"
   ]
  },
  {
   "attachments": {},
   "cell_type": "markdown",
   "metadata": {},
   "source": [
    "3、把之前使用yolov5获得的目标的bounding box位置、目标的类别、置信度通过cv2绘制在视频的每一帧中。（暂时是这样，之后还要分类、统计）"
   ]
  },
  {
   "cell_type": "code",
   "execution_count": 12,
   "metadata": {},
   "outputs": [
    {
     "name": "stderr",
     "output_type": "stream",
     "text": [
      "\u001b[34m\u001b[1mmydetect: \u001b[0mweights=['yolov5/yolov5s.pt'], source=video_obj_detect/test/video_output/pose/test.mp4, data=yolov5\\data\\coco128.yaml, imgsz=[640, 640], conf_thres=0.25, iou_thres=0.45, max_det=1000, device=, view_img=False, save_txt=True, save_conf=True, save_crop=False, nosave=False, classes=None, agnostic_nms=False, augment=False, visualize=False, update=False, project=yolov5\\runs\\detect, name=exp, exist_ok=False, line_thickness=3, hide_labels=False, hide_conf=False, half=False, dnn=False, vid_stride=1, mylabels_path=video_obj_detect\n",
      "YOLOv5  v7.0-178-ga199480 Python-3.9.12 torch-1.13.1+cpu CPU\n",
      "\n",
      "Fusing layers... \n",
      "YOLOv5s summary: 213 layers, 7225885 parameters, 0 gradients\n"
     ]
    }
   ],
   "source": [
    "!python yolov5/mydetect.py --weights yolov5/yolov5s.pt --img 640 --conf 0.25 --source video_obj_detect/test/video_output/pose/test.mp4 --save-txt --save-conf --mylabels-path video_obj_detect"
   ]
  }
 ],
 "metadata": {
  "kernelspec": {
   "display_name": "base",
   "language": "python",
   "name": "python3"
  },
  "language_info": {
   "codemirror_mode": {
    "name": "ipython",
    "version": 3
   },
   "file_extension": ".py",
   "mimetype": "text/x-python",
   "name": "python",
   "nbconvert_exporter": "python",
   "pygments_lexer": "ipython3",
   "version": "3.9.12"
  },
  "orig_nbformat": 4,
  "vscode": {
   "interpreter": {
    "hash": "a66a995458df657f2d1dd1215d3fd21014c75477484430839b4fdbbf23622b92"
   }
  }
 },
 "nbformat": 4,
 "nbformat_minor": 2
}
